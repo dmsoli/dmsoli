{
  "nbformat": 4,
  "nbformat_minor": 0,
  "metadata": {
    "colab": {
      "name": "cars_dataset",
      "provenance": [],
      "mount_file_id": "1nuEzhVZ1WH4csBRmHSUXlXd4oXArKwWe",
      "authorship_tag": "ABX9TyPMlzVjVBJf975MLBb5Cj9M",
      "include_colab_link": true
    },
    "kernelspec": {
      "name": "python3",
      "display_name": "Python 3"
    },
    "language_info": {
      "name": "python"
    }
  },
  "cells": [
    {
      "cell_type": "markdown",
      "metadata": {
        "id": "view-in-github",
        "colab_type": "text"
      },
      "source": [
        "<a href=\"https://colab.research.google.com/github/dmsoli/dmsoli/blob/main/cars_dataset.ipynb\" target=\"_parent\"><img src=\"https://colab.research.google.com/assets/colab-badge.svg\" alt=\"Open In Colab\"/></a>"
      ]
    },
    {
      "cell_type": "markdown",
      "source": [
        "Import and take a quick look at the data"
      ],
      "metadata": {
        "id": "zVmXnZtvkN89"
      }
    },
    {
      "cell_type": "code",
      "execution_count": 35,
      "metadata": {
        "colab": {
          "base_uri": "https://localhost:8080/",
          "height": 826
        },
        "id": "6BfMy53ThPGD",
        "outputId": "904813da-1952-40b6-ab61-7a322b1ea58a"
      },
      "outputs": [
        {
          "output_type": "stream",
          "name": "stdout",
          "text": [
            "<class 'pandas.core.frame.DataFrame'>\n",
            "RangeIndex: 6019 entries, 0 to 6018\n",
            "Data columns (total 14 columns):\n",
            " #   Column             Non-Null Count  Dtype  \n",
            "---  ------             --------------  -----  \n",
            " 0   Unnamed: 0         6019 non-null   int64  \n",
            " 1   Name               6019 non-null   object \n",
            " 2   Location           6019 non-null   object \n",
            " 3   Year               6019 non-null   int64  \n",
            " 4   Kilometers_Driven  6019 non-null   int64  \n",
            " 5   Fuel_Type          6019 non-null   object \n",
            " 6   Transmission       6019 non-null   object \n",
            " 7   Owner_Type         6019 non-null   object \n",
            " 8   Mileage            6017 non-null   object \n",
            " 9   Engine             5983 non-null   object \n",
            " 10  Power              5983 non-null   object \n",
            " 11  Seats              5977 non-null   float64\n",
            " 12  New_Price          824 non-null    object \n",
            " 13  Price              6019 non-null   float64\n",
            "dtypes: float64(2), int64(3), object(9)\n",
            "memory usage: 658.5+ KB\n"
          ]
        },
        {
          "output_type": "execute_result",
          "data": {
            "text/html": [
              "\n",
              "  <div id=\"df-138fd1b2-1915-489d-85ab-7027dccc2603\">\n",
              "    <div class=\"colab-df-container\">\n",
              "      <div>\n",
              "<style scoped>\n",
              "    .dataframe tbody tr th:only-of-type {\n",
              "        vertical-align: middle;\n",
              "    }\n",
              "\n",
              "    .dataframe tbody tr th {\n",
              "        vertical-align: top;\n",
              "    }\n",
              "\n",
              "    .dataframe thead th {\n",
              "        text-align: right;\n",
              "    }\n",
              "</style>\n",
              "<table border=\"1\" class=\"dataframe\">\n",
              "  <thead>\n",
              "    <tr style=\"text-align: right;\">\n",
              "      <th></th>\n",
              "      <th>unnamed: 0</th>\n",
              "      <th>name</th>\n",
              "      <th>location</th>\n",
              "      <th>year</th>\n",
              "      <th>kilometers_driven</th>\n",
              "      <th>fuel_type</th>\n",
              "      <th>transmission</th>\n",
              "      <th>owner_type</th>\n",
              "      <th>mileage</th>\n",
              "      <th>engine</th>\n",
              "      <th>power</th>\n",
              "      <th>seats</th>\n",
              "      <th>new_price</th>\n",
              "      <th>price</th>\n",
              "    </tr>\n",
              "  </thead>\n",
              "  <tbody>\n",
              "    <tr>\n",
              "      <th>0</th>\n",
              "      <td>0</td>\n",
              "      <td>Maruti Wagon R LXI CNG</td>\n",
              "      <td>Mumbai</td>\n",
              "      <td>2010</td>\n",
              "      <td>72000</td>\n",
              "      <td>CNG</td>\n",
              "      <td>Manual</td>\n",
              "      <td>First</td>\n",
              "      <td>26.6 km/kg</td>\n",
              "      <td>998 CC</td>\n",
              "      <td>58.16 bhp</td>\n",
              "      <td>5.0</td>\n",
              "      <td>NaN</td>\n",
              "      <td>1.75</td>\n",
              "    </tr>\n",
              "    <tr>\n",
              "      <th>1</th>\n",
              "      <td>1</td>\n",
              "      <td>Hyundai Creta 1.6 CRDi SX Option</td>\n",
              "      <td>Pune</td>\n",
              "      <td>2015</td>\n",
              "      <td>41000</td>\n",
              "      <td>Diesel</td>\n",
              "      <td>Manual</td>\n",
              "      <td>First</td>\n",
              "      <td>19.67 kmpl</td>\n",
              "      <td>1582 CC</td>\n",
              "      <td>126.2 bhp</td>\n",
              "      <td>5.0</td>\n",
              "      <td>NaN</td>\n",
              "      <td>12.50</td>\n",
              "    </tr>\n",
              "    <tr>\n",
              "      <th>2</th>\n",
              "      <td>2</td>\n",
              "      <td>Honda Jazz V</td>\n",
              "      <td>Chennai</td>\n",
              "      <td>2011</td>\n",
              "      <td>46000</td>\n",
              "      <td>Petrol</td>\n",
              "      <td>Manual</td>\n",
              "      <td>First</td>\n",
              "      <td>18.2 kmpl</td>\n",
              "      <td>1199 CC</td>\n",
              "      <td>88.7 bhp</td>\n",
              "      <td>5.0</td>\n",
              "      <td>8.61 Lakh</td>\n",
              "      <td>4.50</td>\n",
              "    </tr>\n",
              "    <tr>\n",
              "      <th>3</th>\n",
              "      <td>3</td>\n",
              "      <td>Maruti Ertiga VDI</td>\n",
              "      <td>Chennai</td>\n",
              "      <td>2012</td>\n",
              "      <td>87000</td>\n",
              "      <td>Diesel</td>\n",
              "      <td>Manual</td>\n",
              "      <td>First</td>\n",
              "      <td>20.77 kmpl</td>\n",
              "      <td>1248 CC</td>\n",
              "      <td>88.76 bhp</td>\n",
              "      <td>7.0</td>\n",
              "      <td>NaN</td>\n",
              "      <td>6.00</td>\n",
              "    </tr>\n",
              "    <tr>\n",
              "      <th>4</th>\n",
              "      <td>4</td>\n",
              "      <td>Audi A4 New 2.0 TDI Multitronic</td>\n",
              "      <td>Coimbatore</td>\n",
              "      <td>2013</td>\n",
              "      <td>40670</td>\n",
              "      <td>Diesel</td>\n",
              "      <td>Automatic</td>\n",
              "      <td>Second</td>\n",
              "      <td>15.2 kmpl</td>\n",
              "      <td>1968 CC</td>\n",
              "      <td>140.8 bhp</td>\n",
              "      <td>5.0</td>\n",
              "      <td>NaN</td>\n",
              "      <td>17.74</td>\n",
              "    </tr>\n",
              "  </tbody>\n",
              "</table>\n",
              "</div>\n",
              "      <button class=\"colab-df-convert\" onclick=\"convertToInteractive('df-138fd1b2-1915-489d-85ab-7027dccc2603')\"\n",
              "              title=\"Convert this dataframe to an interactive table.\"\n",
              "              style=\"display:none;\">\n",
              "        \n",
              "  <svg xmlns=\"http://www.w3.org/2000/svg\" height=\"24px\"viewBox=\"0 0 24 24\"\n",
              "       width=\"24px\">\n",
              "    <path d=\"M0 0h24v24H0V0z\" fill=\"none\"/>\n",
              "    <path d=\"M18.56 5.44l.94 2.06.94-2.06 2.06-.94-2.06-.94-.94-2.06-.94 2.06-2.06.94zm-11 1L8.5 8.5l.94-2.06 2.06-.94-2.06-.94L8.5 2.5l-.94 2.06-2.06.94zm10 10l.94 2.06.94-2.06 2.06-.94-2.06-.94-.94-2.06-.94 2.06-2.06.94z\"/><path d=\"M17.41 7.96l-1.37-1.37c-.4-.4-.92-.59-1.43-.59-.52 0-1.04.2-1.43.59L10.3 9.45l-7.72 7.72c-.78.78-.78 2.05 0 2.83L4 21.41c.39.39.9.59 1.41.59.51 0 1.02-.2 1.41-.59l7.78-7.78 2.81-2.81c.8-.78.8-2.07 0-2.86zM5.41 20L4 18.59l7.72-7.72 1.47 1.35L5.41 20z\"/>\n",
              "  </svg>\n",
              "      </button>\n",
              "      \n",
              "  <style>\n",
              "    .colab-df-container {\n",
              "      display:flex;\n",
              "      flex-wrap:wrap;\n",
              "      gap: 12px;\n",
              "    }\n",
              "\n",
              "    .colab-df-convert {\n",
              "      background-color: #E8F0FE;\n",
              "      border: none;\n",
              "      border-radius: 50%;\n",
              "      cursor: pointer;\n",
              "      display: none;\n",
              "      fill: #1967D2;\n",
              "      height: 32px;\n",
              "      padding: 0 0 0 0;\n",
              "      width: 32px;\n",
              "    }\n",
              "\n",
              "    .colab-df-convert:hover {\n",
              "      background-color: #E2EBFA;\n",
              "      box-shadow: 0px 1px 2px rgba(60, 64, 67, 0.3), 0px 1px 3px 1px rgba(60, 64, 67, 0.15);\n",
              "      fill: #174EA6;\n",
              "    }\n",
              "\n",
              "    [theme=dark] .colab-df-convert {\n",
              "      background-color: #3B4455;\n",
              "      fill: #D2E3FC;\n",
              "    }\n",
              "\n",
              "    [theme=dark] .colab-df-convert:hover {\n",
              "      background-color: #434B5C;\n",
              "      box-shadow: 0px 1px 3px 1px rgba(0, 0, 0, 0.15);\n",
              "      filter: drop-shadow(0px 1px 2px rgba(0, 0, 0, 0.3));\n",
              "      fill: #FFFFFF;\n",
              "    }\n",
              "  </style>\n",
              "\n",
              "      <script>\n",
              "        const buttonEl =\n",
              "          document.querySelector('#df-138fd1b2-1915-489d-85ab-7027dccc2603 button.colab-df-convert');\n",
              "        buttonEl.style.display =\n",
              "          google.colab.kernel.accessAllowed ? 'block' : 'none';\n",
              "\n",
              "        async function convertToInteractive(key) {\n",
              "          const element = document.querySelector('#df-138fd1b2-1915-489d-85ab-7027dccc2603');\n",
              "          const dataTable =\n",
              "            await google.colab.kernel.invokeFunction('convertToInteractive',\n",
              "                                                     [key], {});\n",
              "          if (!dataTable) return;\n",
              "\n",
              "          const docLinkHtml = 'Like what you see? Visit the ' +\n",
              "            '<a target=\"_blank\" href=https://colab.research.google.com/notebooks/data_table.ipynb>data table notebook</a>'\n",
              "            + ' to learn more about interactive tables.';\n",
              "          element.innerHTML = '';\n",
              "          dataTable['output_type'] = 'display_data';\n",
              "          await google.colab.output.renderOutput(dataTable, element);\n",
              "          const docLink = document.createElement('div');\n",
              "          docLink.innerHTML = docLinkHtml;\n",
              "          element.appendChild(docLink);\n",
              "        }\n",
              "      </script>\n",
              "    </div>\n",
              "  </div>\n",
              "  "
            ],
            "text/plain": [
              "   unnamed: 0                              name  ...  new_price  price\n",
              "0           0            Maruti Wagon R LXI CNG  ...        NaN   1.75\n",
              "1           1  Hyundai Creta 1.6 CRDi SX Option  ...        NaN  12.50\n",
              "2           2                      Honda Jazz V  ...  8.61 Lakh   4.50\n",
              "3           3                 Maruti Ertiga VDI  ...        NaN   6.00\n",
              "4           4   Audi A4 New 2.0 TDI Multitronic  ...        NaN  17.74\n",
              "\n",
              "[5 rows x 14 columns]"
            ]
          },
          "metadata": {},
          "execution_count": 35
        }
      ],
      "source": [
        "import pandas as pd\n",
        "cars = pd.read_csv(\"/content/drive/MyDrive/csv_data_files/train-data.csv\")\n",
        "cars.info()\n",
        "cars.rename(columns=str.lower, inplace = True) # lowering the columns' name\n",
        "\n",
        "cars.head()"
      ]
    },
    {
      "cell_type": "markdown",
      "source": [
        "Inspecting each one of the variables:\n",
        "1 - name"
      ],
      "metadata": {
        "id": "ejl_EI-cm0oF"
      }
    },
    {
      "cell_type": "code",
      "source": [
        "cars[\"name\"].head()\n",
        "cars[\"name\"].value_counts(normalize = True)\n",
        "# it is likely that name variable has no predictive power. Then, I'm gonna drop it\n",
        "\n",
        "cars.drop([\"unnamed: 0\", \"name\"], axis = 1, inplace = True)\n",
        "cars.columns"
      ],
      "metadata": {
        "colab": {
          "base_uri": "https://localhost:8080/"
        },
        "id": "-DN9Hcv5kZH1",
        "outputId": "e133f96b-7389-4c2d-d941-9eaf916b63bc"
      },
      "execution_count": 36,
      "outputs": [
        {
          "output_type": "execute_result",
          "data": {
            "text/plain": [
              "Index(['location', 'year', 'kilometers_driven', 'fuel_type', 'transmission',\n",
              "       'owner_type', 'mileage', 'engine', 'power', 'seats', 'new_price',\n",
              "       'price'],\n",
              "      dtype='object')"
            ]
          },
          "metadata": {},
          "execution_count": 36
        }
      ]
    },
    {
      "cell_type": "markdown",
      "source": [
        " **Inspecting each one of the variables:\n",
        "2 - location** "
      ],
      "metadata": {
        "id": "y_QRi3N7nIrr"
      }
    },
    {
      "cell_type": "code",
      "source": [
        "cars[\"location\"].head()\n",
        "cars[\"location\"].value_counts()\n",
        "print(len(cars[\"location\"].value_counts())) # the number of categories in the variable\n",
        "# It looks like a good variable. I'll keep it"
      ],
      "metadata": {
        "colab": {
          "base_uri": "https://localhost:8080/"
        },
        "id": "h9jtmADjnNqT",
        "outputId": "e770d39b-fdce-4e0a-89e4-e2596ed1243a"
      },
      "execution_count": 37,
      "outputs": [
        {
          "output_type": "stream",
          "name": "stdout",
          "text": [
            "11\n"
          ]
        }
      ]
    },
    {
      "cell_type": "markdown",
      "source": [
        "Inspecting each one of the variables: 3 - Year"
      ],
      "metadata": {
        "id": "ZzJm7jgHn7j1"
      }
    },
    {
      "cell_type": "code",
      "source": [
        "cars[\"year\"].head()\n",
        "cars[\"year\"].describe()\n",
        "# year is ok!"
      ],
      "metadata": {
        "colab": {
          "base_uri": "https://localhost:8080/"
        },
        "id": "DvsQD8yHoNst",
        "outputId": "ac6e4095-bb6f-4f47-9b72-c0234604d1fc"
      },
      "execution_count": 38,
      "outputs": [
        {
          "output_type": "execute_result",
          "data": {
            "text/plain": [
              "count    6019.000000\n",
              "mean     2013.358199\n",
              "std         3.269742\n",
              "min      1998.000000\n",
              "25%      2011.000000\n",
              "50%      2014.000000\n",
              "75%      2016.000000\n",
              "max      2019.000000\n",
              "Name: year, dtype: float64"
            ]
          },
          "metadata": {},
          "execution_count": 38
        }
      ]
    },
    {
      "cell_type": "markdown",
      "source": [
        "Inspecting each one of the variables: 4 - kilometers_driven"
      ],
      "metadata": {
        "id": "iv1_bgUbofQm"
      }
    },
    {
      "cell_type": "code",
      "source": [
        "cars[\"kilometers_driven\"].head()\n",
        "cars[\"kilometers_driven\"].describe()\n",
        "# kilometers_driven is ok!"
      ],
      "metadata": {
        "colab": {
          "base_uri": "https://localhost:8080/"
        },
        "id": "jzeMW2qBok8h",
        "outputId": "6aba3a12-2a2a-4679-b555-19adc718fb42"
      },
      "execution_count": 39,
      "outputs": [
        {
          "output_type": "execute_result",
          "data": {
            "text/plain": [
              "count    6.019000e+03\n",
              "mean     5.873838e+04\n",
              "std      9.126884e+04\n",
              "min      1.710000e+02\n",
              "25%      3.400000e+04\n",
              "50%      5.300000e+04\n",
              "75%      7.300000e+04\n",
              "max      6.500000e+06\n",
              "Name: kilometers_driven, dtype: float64"
            ]
          },
          "metadata": {},
          "execution_count": 39
        }
      ]
    },
    {
      "cell_type": "markdown",
      "source": [
        "Inspection the variables: 5 - Fuel_Type"
      ],
      "metadata": {
        "id": "OK7AU-Njphu4"
      }
    },
    {
      "cell_type": "code",
      "source": [
        "import numpy as np\n",
        "\n",
        "cars[\"fuel_type\"].head()\n",
        "cars[\"fuel_type\"].value_counts()\n",
        "\n",
        "# Converting LPG and CNG into a unique value: Gas\n",
        "values = [\"LPG\", \"CNG\"]\n",
        "cars.loc[cars[\"fuel_type\"].isin(values), \"fuel_type\"] = \"Gas\"\n",
        "\n",
        "cars[\"fuel_type\"].value_counts()\n",
        "\n",
        "# Once we have only the rows in which fuel type is electric I decided to drop those rows\n",
        "indexes = cars.loc[cars[\"fuel_type\"] == \"Electric\"].index\n",
        "indexes\n",
        "cars.drop(indexes, axis=0, inplace = True)\n",
        "\n"
      ],
      "metadata": {
        "id": "wGGz94kCpvcI"
      },
      "execution_count": 60,
      "outputs": []
    },
    {
      "cell_type": "markdown",
      "source": [
        "Inspection the variables: 6 - transmission"
      ],
      "metadata": {
        "id": "qAXZBGpeo-65"
      }
    },
    {
      "cell_type": "code",
      "source": [
        "cars[\"transmission\"].head()\n",
        "cars[\"transmission\"].value_counts()\n",
        "# transmission is ok!"
      ],
      "metadata": {
        "colab": {
          "base_uri": "https://localhost:8080/"
        },
        "id": "IBYLKPO6pFmH",
        "outputId": "b1c6c106-462e-4ed4-f498-0e37754d9486"
      },
      "execution_count": 48,
      "outputs": [
        {
          "output_type": "execute_result",
          "data": {
            "text/plain": [
              "Manual       4299\n",
              "Automatic    1718\n",
              "Name: transmission, dtype: int64"
            ]
          },
          "metadata": {},
          "execution_count": 48
        }
      ]
    },
    {
      "cell_type": "markdown",
      "source": [
        "Inspection the variables: 7 - owner_type"
      ],
      "metadata": {
        "id": "sLh7dWVvqeiu"
      }
    },
    {
      "cell_type": "code",
      "source": [
        "cars[\"owner_type\"].head()\n",
        "cars[\"owner_type\"].value_counts()\n",
        "\n",
        "# Converting values Third and Fourth & Above into one unique value: Third & Above\n",
        "values = [\"Third\", \"Fourth & Above\"]\n",
        "cars.loc[cars[\"owner_type\"].isin(values), \"owner_type\"] = \"Third & Above\"\n",
        "\n",
        "cars[\"owner_type\"].value_counts()"
      ],
      "metadata": {
        "colab": {
          "base_uri": "https://localhost:8080/"
        },
        "id": "-ucCWNQPqlOr",
        "outputId": "2070ab00-e5c5-4f0d-967c-1668e67508b0"
      },
      "execution_count": 49,
      "outputs": [
        {
          "output_type": "execute_result",
          "data": {
            "text/plain": [
              "First            4927\n",
              "Second            968\n",
              "Third & Above     122\n",
              "Name: owner_type, dtype: int64"
            ]
          },
          "metadata": {},
          "execution_count": 49
        }
      ]
    },
    {
      "cell_type": "markdown",
      "source": [
        "Inspection the variables: 8 - mileage"
      ],
      "metadata": {
        "id": "tgoZTIopt3My"
      }
    },
    {
      "cell_type": "code",
      "source": [
        "cars[\"mileage\"].head()\n",
        "\n",
        "# How many values end with km/kg or kmpl?\n",
        "ends_with_kmkg = []\n",
        "ends_with_kmpl = []\n",
        "\n",
        "for index, row in cars.iterrows():\n",
        "  if str(row[\"mileage\"]).endswith(\"km/kg\"):\n",
        "    ends_with_kmkg.append(row[\"mileage\"])\n",
        "  else:\n",
        "    ends_with_kmpl.append(row[\"mileage\"])\n",
        "\n",
        "print(\"end with km/kg:\", len(ends_with_kmkg))\n",
        "print(\"end with kmpl:\", len(ends_with_kmpl))\n",
        "\n",
        "# identifying the missing values\n",
        "cars[\"mileage\"].isnull().sum()\n",
        "\n",
        "# Keep only the digits and convert the variable into a numerical one\n",
        "cars[\"mileage\"] = cars[\"mileage\"].str.extract(\"(\\d+\\.?\\d+)\", expand = True)\n",
        "cars[\"mileage\"] = pd.to_numeric(cars[\"mileage\"])\n",
        "cars[\"mileage\"].head()\n",
        "cars.info()"
      ],
      "metadata": {
        "colab": {
          "base_uri": "https://localhost:8080/"
        },
        "id": "RSM8mtrQt_Yo",
        "outputId": "bcc6da11-129e-4e06-dda5-d38dcad0d5c3"
      },
      "execution_count": 50,
      "outputs": [
        {
          "output_type": "stream",
          "name": "stdout",
          "text": [
            "end with km/kg: 66\n",
            "end with kmpl: 5951\n",
            "<class 'pandas.core.frame.DataFrame'>\n",
            "Int64Index: 6017 entries, 0 to 6018\n",
            "Data columns (total 12 columns):\n",
            " #   Column             Non-Null Count  Dtype  \n",
            "---  ------             --------------  -----  \n",
            " 0   location           6017 non-null   object \n",
            " 1   year               6017 non-null   int64  \n",
            " 2   kilometers_driven  6017 non-null   int64  \n",
            " 3   fuel_type          6017 non-null   object \n",
            " 4   transmission       6017 non-null   object \n",
            " 5   owner_type         6017 non-null   object \n",
            " 6   mileage            6017 non-null   float64\n",
            " 7   engine             5981 non-null   object \n",
            " 8   power              5981 non-null   object \n",
            " 9   seats              5975 non-null   float64\n",
            " 10  new_price          823 non-null    object \n",
            " 11  price              6017 non-null   float64\n",
            "dtypes: float64(3), int64(2), object(7)\n",
            "memory usage: 771.1+ KB\n"
          ]
        }
      ]
    },
    {
      "cell_type": "markdown",
      "source": [
        "Inspection the variables: 9 - engine"
      ],
      "metadata": {
        "id": "PV4XVBDGyljI"
      }
    },
    {
      "cell_type": "code",
      "source": [
        "cars[\"engine\"].head()\n",
        "\n",
        "# How many values end with cc or with other suffixes?\n",
        "end_with_cc = []\n",
        "others = []\n",
        "\n",
        "for index, row in cars.iterrows():\n",
        "  if str(row[\"engine\"]).endswith(\"CC\"):\n",
        "    end_with_cc.append(row[\"engine\"])\n",
        "  else:\n",
        "    others.append(row[\"engine\"])\n",
        "\n",
        "print(\"end with cc:\", len(end_with_cc))\n",
        "print(\"others:\", len(others))\n",
        "\n",
        "# identifying the missing values\n",
        "# the number of values that end with other suffixes are actually missing values\n",
        "print(\"Missing values:\", cars[\"engine\"].isnull().sum())\n",
        "\n",
        "# Keep only the digits, convert the variable into a numerical one and change the variable name\n",
        "cars[\"engine\"] = cars[\"engine\"].str.extract(\"(\\d+\\.?\\d+)\", expand = True)\n",
        "\n",
        "cars[\"engine\"] = pd.to_numeric(cars[\"engine\"])\n",
        "\n",
        "cars.rename(columns = {\"engine\":\"engine_cc\"}, inplace = True)\n",
        "\n",
        "cars.columns\n",
        "\n",
        "\n"
      ],
      "metadata": {
        "colab": {
          "base_uri": "https://localhost:8080/"
        },
        "id": "TeGlZiwzysX-",
        "outputId": "89076655-747c-4e0c-b50f-cdc9d6221865"
      },
      "execution_count": 51,
      "outputs": [
        {
          "output_type": "stream",
          "name": "stdout",
          "text": [
            "end with cc: 5981\n",
            "others: 36\n",
            "Missing values: 36\n"
          ]
        },
        {
          "output_type": "execute_result",
          "data": {
            "text/plain": [
              "Index(['location', 'year', 'kilometers_driven', 'fuel_type', 'transmission',\n",
              "       'owner_type', 'mileage', 'engine_cc', 'power', 'seats', 'new_price',\n",
              "       'price'],\n",
              "      dtype='object')"
            ]
          },
          "metadata": {},
          "execution_count": 51
        }
      ]
    },
    {
      "cell_type": "markdown",
      "source": [
        "Inspection the variables: 10 - power"
      ],
      "metadata": {
        "id": "udKYgqcPMyey"
      }
    },
    {
      "cell_type": "code",
      "source": [
        "cars[\"power\"].head()\n",
        "\n",
        "# How many values end with bhp or with other suffixes?\n",
        "end_with_bhp = []\n",
        "others = []\n",
        "\n",
        "for index, row in cars.iterrows():\n",
        "  if str(row[\"power\"]).endswith(\"bhp\"):\n",
        "    end_with_bhp.append(row[\"power\"])\n",
        "  else:\n",
        "    others.append(row[\"power\"])\n",
        "\n",
        "print(\"end with bhp:\", len(end_with_bhp))\n",
        "print(\"others:\", len(others))\n",
        "\n",
        "# identifying the missing values\n",
        "# the number of values that end with other suffixes are actually missing values\n",
        "print(\"Missing_values:\", cars[\"power\"].isnull().sum())\n",
        "\n",
        "# Keep only the digits, convert the variable into a numerical one and change the variable name\n",
        "cars[\"power\"] = cars[\"power\"].str.extract(\"(\\d+\\.?\\d+)\")\n",
        "\n",
        "cars[\"power\"] = pd.to_numeric(cars[\"power\"])\n",
        "\n",
        "cars.rename(columns = {\"power\":\"power_bhp\"}, inplace = True)\n",
        "cars.info()"
      ],
      "metadata": {
        "colab": {
          "base_uri": "https://localhost:8080/"
        },
        "id": "-u2-0zzKM3pn",
        "outputId": "2d7749db-28bf-4c6a-8687-34ae99ed42df"
      },
      "execution_count": 52,
      "outputs": [
        {
          "output_type": "stream",
          "name": "stdout",
          "text": [
            "end with bhp: 5981\n",
            "others: 36\n",
            "Missing_values: 36\n",
            "<class 'pandas.core.frame.DataFrame'>\n",
            "Int64Index: 6017 entries, 0 to 6018\n",
            "Data columns (total 12 columns):\n",
            " #   Column             Non-Null Count  Dtype  \n",
            "---  ------             --------------  -----  \n",
            " 0   location           6017 non-null   object \n",
            " 1   year               6017 non-null   int64  \n",
            " 2   kilometers_driven  6017 non-null   int64  \n",
            " 3   fuel_type          6017 non-null   object \n",
            " 4   transmission       6017 non-null   object \n",
            " 5   owner_type         6017 non-null   object \n",
            " 6   mileage            6017 non-null   float64\n",
            " 7   engine_cc          5981 non-null   float64\n",
            " 8   power_bhp          5874 non-null   float64\n",
            " 9   seats              5975 non-null   float64\n",
            " 10  new_price          823 non-null    object \n",
            " 11  price              6017 non-null   float64\n",
            "dtypes: float64(5), int64(2), object(5)\n",
            "memory usage: 771.1+ KB\n"
          ]
        }
      ]
    },
    {
      "cell_type": "markdown",
      "source": [
        "Inspection the variables: 11 - seats"
      ],
      "metadata": {
        "id": "VNXexh9kOzB3"
      }
    },
    {
      "cell_type": "code",
      "source": [
        "cars[\"seats\"].head()\n",
        "cars[\"seats\"].isnull().sum()\n"
      ],
      "metadata": {
        "colab": {
          "base_uri": "https://localhost:8080/"
        },
        "id": "2S_sqhvcO6OL",
        "outputId": "cad4bd7a-289a-42ab-b7dd-55c65d33d243"
      },
      "execution_count": 53,
      "outputs": [
        {
          "output_type": "execute_result",
          "data": {
            "text/plain": [
              "42"
            ]
          },
          "metadata": {},
          "execution_count": 53
        }
      ]
    },
    {
      "cell_type": "markdown",
      "source": [
        "**Inspection the variables: 12 - new_price**"
      ],
      "metadata": {
        "id": "g8N_mbV1tuK6"
      }
    },
    {
      "cell_type": "code",
      "source": [
        "cars[\"new_price\"].head()\n",
        "missing_values_perc = cars[\"new_price\"].isnull().sum()/len(cars)\n",
        "print(f\"{missing_values_perc :.2%}\")\n",
        "\n",
        "# There are so many missing values in this column. It is better to drop it\n",
        "\n",
        "cars.drop(\"new_price\", axis = 1, inplace = True)\n",
        "cars.columns"
      ],
      "metadata": {
        "colab": {
          "base_uri": "https://localhost:8080/"
        },
        "id": "rruUGyFft18D",
        "outputId": "d5387c93-622e-4fa8-8006-aa3a12c2e1d8"
      },
      "execution_count": 54,
      "outputs": [
        {
          "output_type": "stream",
          "name": "stdout",
          "text": [
            "86.32%\n"
          ]
        },
        {
          "output_type": "execute_result",
          "data": {
            "text/plain": [
              "Index(['location', 'year', 'kilometers_driven', 'fuel_type', 'transmission',\n",
              "       'owner_type', 'mileage', 'engine_cc', 'power_bhp', 'seats', 'price'],\n",
              "      dtype='object')"
            ]
          },
          "metadata": {},
          "execution_count": 54
        }
      ]
    },
    {
      "cell_type": "markdown",
      "source": [
        "**Correlation Matrix**"
      ],
      "metadata": {
        "id": "ZF2dYEB_33Rz"
      }
    },
    {
      "cell_type": "code",
      "source": [
        "corr_matrix = cars.corr()\n",
        "corr_matrix\n",
        "\n",
        "# Which is the variable that is more correlated with the price?\n",
        "corr_matrix[\"price\"].sort_values(ascending = False)"
      ],
      "metadata": {
        "id": "evxOCxdVFu3a"
      },
      "execution_count": null,
      "outputs": []
    },
    {
      "cell_type": "code",
      "source": [
        "cars.groupby([\"transmission\", \"fuel_type\"])[\"price\"].mean()"
      ],
      "metadata": {
        "colab": {
          "base_uri": "https://localhost:8080/"
        },
        "id": "0lhyl52MIFsA",
        "outputId": "e5078fd2-ecee-490e-f35a-34b5cc1fcb89"
      },
      "execution_count": 66,
      "outputs": [
        {
          "output_type": "execute_result",
          "data": {
            "text/plain": [
              "transmission  fuel_type\n",
              "Automatic     Diesel       24.583078\n",
              "              Petrol       11.258738\n",
              "Manual        Diesel        6.636190\n",
              "              Gas           3.360758\n",
              "              Petrol        4.113947\n",
              "Name: price, dtype: float64"
            ]
          },
          "metadata": {},
          "execution_count": 66
        }
      ]
    },
    {
      "cell_type": "markdown",
      "source": [
        "**Graphs**"
      ],
      "metadata": {
        "id": "pGdsiwSxF20D"
      }
    },
    {
      "cell_type": "code",
      "source": [
        "# scatter plot: power and car price by transmission\n",
        "colors = []\n",
        "\n",
        "for index, row in cars.iterrows():\n",
        "  if row[\"transmission\"] == \"Manual\":\n",
        "    colors.append(\"blue\")\n",
        "  else:\n",
        "    colors.append(\"green\")\n",
        "\n",
        "import matplotlib.pyplot as plt\n",
        "plt.scatter(cars[\"power_bhp\"], cars[\"price\"], c = colors)\n",
        "plt.xlabel(\"Power\")\n",
        "plt.ylabel(\"Car Price\")\n",
        "plt.title(\"The relation between power and car price\") \n",
        "plt.show()"
      ],
      "metadata": {
        "colab": {
          "base_uri": "https://localhost:8080/",
          "height": 295
        },
        "id": "rPHvjLLz3_W0",
        "outputId": "c21442eb-89f5-475c-a9e6-e9b993d5b5ea"
      },
      "execution_count": 62,
      "outputs": [
        {
          "output_type": "display_data",
          "data": {
            "image/png": "[encoded data removed]",
            "text/plain": [
              "<Figure size 432x288 with 1 Axes>"
            ]
          },
          "metadata": {
            "needs_background": "light"
          }
        }
      ]
    },
    {
      "cell_type": "code",
      "source": [
        "colors = []\n",
        "\n",
        "for index, row in cars.iterrows():\n",
        "  if row[\"owner_type\"] == \"First\":\n",
        "    colors.append(\"blue\")\n",
        "  elif row[\"owner_type\"] == \"Second\":\n",
        "    colors.append(\"green\")\n",
        "  else:\n",
        "    colors.append(\"yellow\")\n",
        "\n",
        "plt.scatter(cars[\"power_bhp\"], cars[\"price\"], c = colors)\n",
        "plt.xlabel(\"Power\")\n",
        "plt.ylabel(\"Car Price\")\n",
        "plt.title(\"The relation between power and car price\") \n",
        "plt.show()"
      ],
      "metadata": {
        "colab": {
          "base_uri": "https://localhost:8080/",
          "height": 295
        },
        "id": "nuRLmwrRGPvG",
        "outputId": "b3d3a476-5e00-49d2-ca54-553637f8e5ba"
      },
      "execution_count": 63,
      "outputs": [
        {
          "output_type": "display_data",
          "data": {
            "image/png": "[encoded data removed]",
            "text/plain": [
              "<Figure size 432x288 with 1 Axes>"
            ]
          },
          "metadata": {
            "needs_background": "light"
          }
        }
      ]
    },
    {
      "cell_type": "markdown",
      "source": [
        "**Preparating the dataset to Machine Learning**"
      ],
      "metadata": {
        "id": "DLdyFJ0uHR_p"
      }
    },
    {
      "cell_type": "code",
      "source": [
        "cars_predictors = cars.drop(\"price\", axis = 1)\n",
        "cars_label = cars[\"price\"].copy()"
      ],
      "metadata": {
        "id": "VNzLaUEtHYrm"
      },
      "execution_count": 64,
      "outputs": []
    },
    {
      "cell_type": "code",
      "source": [
        "from sklearn.impute import SimpleImputer\n",
        "from sklearn.preprocessing import StandardScaler\n",
        "from sklearn.preprocessing import OneHotEncoder\n",
        "from sklearn.pipeline import Pipeline\n",
        "from sklearn.compose import ColumnTransformer\n",
        "\n",
        "num_attributes = [\"year\", \"kilometers_driven\", \"mileage\",\n",
        "                  \"engine_cc\", \"power_bhp\", \"seats\"]\n",
        "cat_attributes = [\"location\", \"fuel_type\", \"transmission\", \"owner_type\"]\n",
        "\n",
        "num_pipeline = Pipeline([\n",
        "                         (\"imputer\", SimpleImputer(strategy=\"median\")),\n",
        "                         (\"scaler\", StandardScaler())\n",
        "])\n",
        "\n",
        "cat_pipeline = Pipeline([\n",
        "                         (\"imputer\", SimpleImputer(strategy=\"most_frequent\")),\n",
        "                         (\"encoder\", OneHotEncoder(sparse = False))\n",
        "])\n",
        "\n",
        "full_pipeline = ColumnTransformer([\n",
        "                                   (\"num\", num_pipeline, num_attributes),\n",
        "                                   (\"cat\", cat_pipeline, cat_attributes)\n",
        "\n",
        "])\n",
        "\n",
        "cars_train_pred = full_pipeline.fit_transform(cars_predictors)"
      ],
      "metadata": {
        "id": "YstI2xNqHnNl"
      },
      "execution_count": 70,
      "outputs": []
    },
    {
      "cell_type": "markdown",
      "source": [
        "**Linear Regression**"
      ],
      "metadata": {
        "id": "auiPIMHMMnQ3"
      }
    },
    {
      "cell_type": "code",
      "source": [
        "from sklearn.linear_model import LinearRegression\n",
        "from sklearn.model_selection import cross_val_score\n",
        "\n",
        "lin_reg = LinearRegression()\n",
        "scores = cross_val_score(lin_reg, cars_train_pred, cars_label, cv = 3,\n",
        "                         scoring = \"neg_mean_squared_error\")\n",
        "\n",
        "lin_reg_rmse = np.sqrt(-scores)\n",
        "\n",
        "def display_scores(scores):\n",
        "  print(\"Scores:\",scores)\n",
        "  print(\"Mean:\",scores.mean())\n",
        "  print(\"Standard Deviation:\",scores.std())\n",
        "\n",
        "display_scores(lin_reg_rmse)\n"
      ],
      "metadata": {
        "colab": {
          "base_uri": "https://localhost:8080/"
        },
        "id": "qsm4t7-OKvo5",
        "outputId": "47a5ca69-cc29-45b1-9277-17bee8611b3a"
      },
      "execution_count": 71,
      "outputs": [
        {
          "output_type": "stream",
          "name": "stdout",
          "text": [
            "Scores: [6.42146499 7.21014448 6.31655654]\n",
            "Mean: 6.649388671965728\n",
            "Standard Deviation: 0.3988205584281071\n"
          ]
        }
      ]
    }
  ]
}